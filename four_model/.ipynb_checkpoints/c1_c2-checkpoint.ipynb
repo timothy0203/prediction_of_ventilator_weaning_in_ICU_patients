{
 "cells": [
  {
   "cell_type": "code",
   "execution_count": 2,
   "id": "5937d3f1-5e58-49b1-981b-181759b36f66",
   "metadata": {},
   "outputs": [
    {
     "data": {
      "text/plain": [
       "'C:\\\\Users\\\\User\\\\Desktop\\\\Homework\\\\Data_Science_for_Digital_Health\\\\正式繳交檔\\\\final project'"
      ]
     },
     "execution_count": 2,
     "metadata": {},
     "output_type": "execute_result"
    }
   ],
   "source": [
    "# step1\n",
    "import pandas as pd\n",
    "import numpy as np\n",
    "import os\n",
    "\n",
    "os.getcwd()"
   ]
  },
  {
   "cell_type": "code",
   "execution_count": 3,
   "id": "cba71882-8398-4020-8069-ac06f61631b5",
   "metadata": {},
   "outputs": [],
   "source": [
    "# step2: generate the file which contains only c1 and c2. \n",
    "df = pd.read_csv('pre_24h_data_v6.csv')\n",
    "df_groundtruth = pd.read_csv('ground_truth.csv')\n",
    "# if 'dod' is nan, then dod-endtime must > 48, and take ('dod' is 0 & 'endtime' is )\n",
    "# choose c3(dod-endtime<=48)'s stayid. 1st, dod!=nan. 2nd, dod-endtime<=48. \n",
    "c3_stayid = df_groundtruth.copy()\n",
    "#print(c3_stayid.dtypes)\n",
    "c3_stayid['dod'] = pd.to_datetime(c3_stayid['dod'])  # Convert to datetime if not already\n",
    "c3_stayid['endtime'] = pd.to_datetime(c3_stayid['endtime'])  # Convert to datetime if not already\n",
    "\n",
    "c3_stayid = c3_stayid.dropna(subset=['dod']) # drop the row whose 'dod' is nan. \n",
    "c3_stayid['dod_endtime'] = (c3_stayid['dod'] - c3_stayid['endtime'])\n",
    "#print(c3_stayid.dtypes)\n",
    "\n",
    "c3_stayid = c3_stayid.loc[(c3_stayid['dod_endtime'].dt.days <= 2)]\n",
    "df_groundtruth = df_groundtruth[~df_groundtruth.stay_id.isin(c3_stayid['stay_id'])]\n",
    "\n",
    "c3_stayid.to_csv('0108tryc3_stayid.csv') # # of stayid: 401\n",
    "df_groundtruth.to_csv('0108onlycontainc1c2.csv')"
   ]
  },
  {
   "cell_type": "code",
   "execution_count": 4,
   "id": "471fbfa0-3591-4b3f-9533-18024cade46c",
   "metadata": {},
   "outputs": [],
   "source": [
    "# step3: dealing with df in order to print Tableone.  \n",
    "df = pd.read_csv('pre_24h_data_v6.csv')\n",
    "# only contain c1c2\n",
    "#print(\"len df\", len(df)) #2840*24  \n",
    "df = df[~df.stay_id.isin(c3_stayid['stay_id'])]\n",
    "#print(\"len df\", len(df)) #2439*24\n",
    "#print(df.isna().sum())\n",
    "# drop the row having nan\n",
    "df = df.dropna(axis=0, how='any')\n",
    "#print(\"len df\", len(df)) #2379*24 \n",
    "#print(df.isna().sum())\n",
    "# replace inf with zero\n",
    "df.replace([np.inf, -np.inf], 0, inplace=True)\n",
    "\n",
    "# Assuming your DataFrame is named df\n",
    "df['charttime'] = pd.to_datetime(df['charttime'])  # Convert to datetime if not already\n",
    "df.sort_values(['stay_id', 'charttime'], inplace=True)  # Sort by stay_id and charttime\n",
    "\n",
    "# Calculate the 'before_weaning_hr' column\n",
    "df['before_weaning_hr'] = df.groupby('stay_id').cumcount(ascending=False)\n",
    "\n",
    "# Resetting index (optional)\n",
    "df.reset_index(drop=True, inplace=True)\n",
    "\n",
    "# compute BMI\n",
    "df['BMI'] = df['weight_kg'] / ((df['height_cm'] / 100) ** 2)\n",
    "\n",
    "# drop need drop column\n",
    "df = df.drop(['Unnamed: 0', 'Rev_h', 'dod_h'], axis=1) # 'subject_id', 'hadm_id', 'stay_id', "
   ]
  },
  {
   "cell_type": "code",
   "execution_count": 5,
   "id": "deb43147-ef67-4cf3-a315-995d48e5586f",
   "metadata": {
    "scrolled": true
   },
   "outputs": [
    {
     "name": "stdout",
     "output_type": "stream",
     "text": [
      "before_weaning_hr = 23\n",
      "╒══════════════════════════════════╤════╤═══════════╤═══════════════╤═══════════════╤═══════════════╕\n",
      "│                                  │    │ Missing   │ Overall       │ 0             │ 1             │\n",
      "╞══════════════════════════════════╪════╪═══════════╪═══════════════╪═══════════════╪═══════════════╡\n",
      "│ n                                │    │           │ 2379          │ 645           │ 1734          │\n",
      "├──────────────────────────────────┼────┼───────────┼───────────────┼───────────────┼───────────────┤\n",
      "│ heart_rate, mean (SD)            │    │ 0         │ 85.5 (17.3)   │ 85.9 (17.2)   │ 85.3 (17.3)   │\n",
      "├──────────────────────────────────┼────┼───────────┼───────────────┼───────────────┼───────────────┤\n",
      "│ sbp, mean (SD)                   │    │ 0         │ 123.0 (22.0)  │ 122.3 (23.1)  │ 123.3 (21.6)  │\n",
      "├──────────────────────────────────┼────┼───────────┼───────────────┼───────────────┼───────────────┤\n",
      "│ dbp, mean (SD)                   │    │ 0         │ 62.2 (14.3)   │ 61.1 (15.3)   │ 62.6 (14.0)   │\n",
      "├──────────────────────────────────┼────┼───────────┼───────────────┼───────────────┼───────────────┤\n",
      "│ mbp, mean (SD)                   │    │ 0         │ 80.5 (16.8)   │ 79.2 (16.5)   │ 81.0 (16.9)   │\n",
      "├──────────────────────────────────┼────┼───────────┼───────────────┼───────────────┼───────────────┤\n",
      "│ resp_rate, mean (SD)             │    │ 0         │ 19.8 (5.9)    │ 20.8 (6.1)    │ 19.4 (5.8)    │\n",
      "├──────────────────────────────────┼────┼───────────┼───────────────┼───────────────┼───────────────┤\n",
      "│ spo2, mean (SD)                  │    │ 0         │ 97.7 (2.4)    │ 97.8 (2.2)    │ 97.7 (2.5)    │\n",
      "├──────────────────────────────────┼────┼───────────┼───────────────┼───────────────┼───────────────┤\n",
      "│ peep, mean (SD)                  │    │ 0         │ 6.5 (2.9)     │ 6.8 (2.8)     │ 6.4 (2.9)     │\n",
      "├──────────────────────────────────┼────┼───────────┼───────────────┼───────────────┼───────────────┤\n",
      "│ fio2, mean (SD)                  │    │ 0         │ 42.9 (9.3)    │ 44.0 (10.6)   │ 42.5 (8.7)    │\n",
      "├──────────────────────────────────┼────┼───────────┼───────────────┼───────────────┼───────────────┤\n",
      "│ tidal_volume_observed, mean (SD) │    │ 0         │ 486.7 (143.1) │ 479.3 (137.1) │ 489.4 (145.2) │\n",
      "├──────────────────────────────────┼────┼───────────┼───────────────┼───────────────┼───────────────┤\n",
      "│ respiratory_rate_set, mean (SD)  │    │ 0         │ 17.2 (23.0)   │ 17.6 (22.9)   │ 17.1 (23.0)   │\n",
      "├──────────────────────────────────┼────┼───────────┼───────────────┼───────────────┼───────────────┤\n",
      "│ plateau_pressure, mean (SD)      │    │ 0         │ 18.8 (4.6)    │ 19.2 (4.9)    │ 18.6 (4.5)    │\n",
      "├──────────────────────────────────┼────┼───────────┼───────────────┼───────────────┼───────────────┤\n",
      "│ GCS, mean (SD)                   │    │ 0         │ 5.1 (1.3)     │ 5.0 (1.4)     │ 5.1 (1.3)     │\n",
      "├──────────────────────────────────┼────┼───────────┼───────────────┼───────────────┼───────────────┤\n",
      "│ tobacco, mean (SD)               │    │ 0         │ 0.4 (0.5)     │ 0.4 (0.5)     │ 0.4 (0.5)     │\n",
      "├──────────────────────────────────┼────┼───────────┼───────────────┼───────────────┼───────────────┤\n",
      "│ RSBI, mean (SD)                  │    │ 0         │ 48.8 (168.5)  │ 48.2 (25.1)   │ 49.0 (196.8)  │\n",
      "├──────────────────────────────────┼────┼───────────┼───────────────┼───────────────┼───────────────┤\n",
      "│ minute_ventilation, mean (SD)    │    │ 0         │ 9.4 (3.5)     │ 9.8 (3.8)     │ 9.3 (3.3)     │\n",
      "├──────────────────────────────────┼────┼───────────┼───────────────┼───────────────┼───────────────┤\n",
      "│ before_weaning_hr, mean (SD)     │    │ 0         │ 23.0 (0.0)    │ 23.0 (0.0)    │ 23.0 (0.0)    │\n",
      "├──────────────────────────────────┼────┼───────────┼───────────────┼───────────────┼───────────────┤\n",
      "│ gender, n (%)                    │ F  │ 0         │ 979 (41.2)    │ 259 (40.2)    │ 720 (41.5)    │\n",
      "├──────────────────────────────────┼────┼───────────┼───────────────┼───────────────┼───────────────┤\n",
      "│                                  │ M  │           │ 1400 (58.8)   │ 386 (59.8)    │ 1014 (58.5)   │\n",
      "╘══════════════════════════════════╧════╧═══════════╧═══════════════╧═══════════════╧═══════════════╛\n"
     ]
    },
    {
     "name": "stderr",
     "output_type": "stream",
     "text": [
      "C:\\Users\\User\\anaconda3\\envs\\data_processing\\Lib\\site-packages\\tableone\\tableone.py:927: FutureWarning: The provided callable <function mean at 0x000001226B79C9A0> is currently using DataFrameGroupBy.mean. In a future version of pandas, the provided callable will be used directly. To keep current behavior pass the string \"mean\" instead.\n",
      "  df_cont = pd.pivot_table(cont_data,\n",
      "C:\\Users\\User\\anaconda3\\envs\\data_processing\\Lib\\site-packages\\tableone\\tableone.py:927: FutureWarning: The provided callable <function median at 0x000001226B984C20> is currently using DataFrameGroupBy.median. In a future version of pandas, the provided callable will be used directly. To keep current behavior pass the string \"median\" instead.\n",
      "  df_cont = pd.pivot_table(cont_data,\n",
      "C:\\Users\\User\\anaconda3\\envs\\data_processing\\Lib\\site-packages\\tableone\\tableone.py:927: FutureWarning: The provided callable <built-in function min> is currently using DataFrameGroupBy.min. In a future version of pandas, the provided callable will be used directly. To keep current behavior pass the string \"min\" instead.\n",
      "  df_cont = pd.pivot_table(cont_data,\n",
      "C:\\Users\\User\\anaconda3\\envs\\data_processing\\Lib\\site-packages\\tableone\\tableone.py:927: FutureWarning: The provided callable <built-in function max> is currently using DataFrameGroupBy.max. In a future version of pandas, the provided callable will be used directly. To keep current behavior pass the string \"max\" instead.\n",
      "  df_cont = pd.pivot_table(cont_data,\n"
     ]
    }
   ],
   "source": [
    "# step4: print Tableone for before_weaning_hr == 0 and before_weaning_hr == 23. \n",
    "from tableone import TableOne, load_dataset\n",
    "import pandas as pd\n",
    "\n",
    "#df = pd.read_csv('pre_24h_data_v6.csv')\n",
    "\n",
    "df['race'] = df['race'].str.replace(r'^BLACK$', 'Black', regex=True)\n",
    "\n",
    "print_before_weaning_hr = 23\n",
    "df = df[df['before_weaning_hr']==print_before_weaning_hr]\n",
    "print(\"before_weaning_hr =\", print_before_weaning_hr)\n",
    "\n",
    "#columns = df.columns\n",
    "#print(columns)\n",
    "\n",
    "\"\"\"\n",
    "columns = ['charttime', 'stay_id', 'heart_rate', 'sbp', 'dbp', 'mbp', 'resp_rate',\n",
    "       'spo2', 'peep', 'fio2', 'tidal_volume_observed', 'respiratory_rate_set',\n",
    "       'plateau_pressure', 'GCS', 'age_now', 'gender', 'insurance', 'race',\n",
    "       'admission_type', 'first_careunit', 'weight_kg', 'height_cm', 'tobacco',\n",
    "       'label', 'RSBI', 'minute_ventilation', 'before_weaning_hr', 'BMI']\n",
    "\"\"\"\n",
    "\n",
    "columns = ['heart_rate', 'sbp', 'dbp', 'mbp', 'resp_rate',\n",
    "       'spo2', 'peep', 'fio2', 'tidal_volume_observed', 'respiratory_rate_set',\n",
    "       'plateau_pressure', 'GCS', 'tobacco',\n",
    "       'label', 'RSBI', 'minute_ventilation', 'before_weaning_hr', 'gender'] \n",
    "# , 'age_now', 'insurance', 'race', 'admission_type', 'first_careunit', 'weight_kg', 'height_cm', 'BMI'\n",
    "\n",
    "categorical = ['gender'] #, 'race','admission_type', 'first_careunit', 'insurance']\n",
    "groupby = ['label']\n",
    "nonnormal = ['age_now']\n",
    "labels=['label']\n",
    "mytable = TableOne(df, columns=columns, categorical=categorical, groupby=groupby, nonnormal=nonnormal, pval=False)\n",
    "\n",
    "print(mytable.tabulate(tablefmt = \"fancy_grid\"))"
   ]
  },
  {
   "cell_type": "code",
   "execution_count": null,
   "id": "fc9b41c6-9514-45d2-998d-4c98c2075837",
   "metadata": {},
   "outputs": [],
   "source": []
  }
 ],
 "metadata": {
  "kernelspec": {
   "display_name": "Python 3 (ipykernel)",
   "language": "python",
   "name": "python3"
  },
  "language_info": {
   "codemirror_mode": {
    "name": "ipython",
    "version": 3
   },
   "file_extension": ".py",
   "mimetype": "text/x-python",
   "name": "python",
   "nbconvert_exporter": "python",
   "pygments_lexer": "ipython3",
   "version": "3.11.3"
  }
 },
 "nbformat": 4,
 "nbformat_minor": 5
}
