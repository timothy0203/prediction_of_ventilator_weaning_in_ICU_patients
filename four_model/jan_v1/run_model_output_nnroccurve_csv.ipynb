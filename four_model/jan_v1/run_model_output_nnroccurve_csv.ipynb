{
 "cells": [
  {
   "cell_type": "code",
   "execution_count": 1,
   "metadata": {},
   "outputs": [],
   "source": [
    "import sys\n",
    "import numpy as np\n",
    "import matplotlib.pyplot as plt\n",
    "import pandas as pd\n",
    "import csv\n",
    "import math\n",
    "from sklearn.preprocessing import LabelEncoder\n",
    "from sklearn.model_selection import train_test_split\n",
    "import os\n",
    "os.environ['TF_CPP_MIN_LOG_LEVEL'] = '2'  # or '3' to suppress all messages\n",
    "import tensorflow as tf\n",
    "from sklearn.preprocessing import MinMaxScaler\n",
    "from sklearn.metrics import roc_auc_score, accuracy_score\n",
    "import matplotlib.pyplot as plt\n",
    "from sklearn.metrics import roc_curve, auc\n",
    "import random\n",
    "import joblib\n",
    "label_encoder = LabelEncoder()\n",
    "pd.options.mode.chained_assignment = None\n"
   ]
  },
  {
   "cell_type": "code",
   "execution_count": 2,
   "metadata": {},
   "outputs": [],
   "source": [
    "label_path = './data/data_by_table/pre_24h_data_v6.csv'\n",
    "flag_data_path = './data/data_by_table/ground_truth.csv'\n",
    "raw_data_path = './data/data_by_table/pre_24h_data_1217.csv'\n",
    "mode_data_path = './data/data_by_table/pre_24_merged_30_rows_12_07.csv'\n",
    "\n",
    "data_df = pd.read_csv(raw_data_path)\n",
    "flag_data_df = pd.read_csv(flag_data_path)\n",
    "label_df = pd.read_csv(label_path)\n",
    "mode_df = pd.read_csv(mode_data_path)\n",
    "data_df['BMI'] = data_df['weight_kg'] / ((data_df['height_cm'] / 100) ** 2)\n",
    "data_df['gender'] = label_encoder.fit_transform(data_df['gender'])\n",
    "data_df['race'] = label_encoder.fit_transform(data_df['race'])\n",
    "data_df['first_careunit'] = label_encoder.fit_transform(data_df['first_careunit'])\n",
    "data_df['admission_type'] = label_encoder.fit_transform(data_df['admission_type'])\n",
    "data_df['ventilator_mode_group'] = label_encoder.fit_transform(data_df['ventilator_mode_group'])\n",
    "data_df['ventilator_mode'] = label_encoder.fit_transform(data_df['ventilator_mode'])\n",
    "data_df['insurance'] = label_encoder.fit_transform(data_df['insurance'])\n",
    "data_df = data_df.drop(columns=['height_cm', 'weight_kg'])\n",
    "data_df['RSBI'] =   data_df['resp_rate']/(data_df['tidal_volume_observed']* 0.001) \n",
    "data_df['minute_ventilation'] = data_df['tidal_volume_observed'] * data_df['resp_rate']* 0.001\n",
    "data_df = data_df.drop(columns=[ 'hadm_id','subject_id'])"
   ]
  },
  {
   "cell_type": "code",
   "execution_count": 3,
   "metadata": {},
   "outputs": [],
   "source": [
    "vitalsign = ['heart_rate', 'sbp', 'dbp', 'mbp', 'spo2', 'resp_rate', \n",
    "             'tidal_volume_observed', 'RSBI', 'minute_ventilation']\n",
    "ventilator_settings = ['peep', 'fio2', 'respiratory_rate_set', 'plateau_pressure']\n",
    "baseline = ['age_now','gender', 'insurance', 'race', 'admission_type', 'first_careunit'\n",
    ",'weight_kg', 'height_cm', 'tobacco' ]\n",
    "all_feature = ['heart_rate', 'sbp', 'dbp', 'mbp', 'spo2', 'resp_rate', \n",
    "             'tidal_volume_observed', 'RSBI', 'minute_ventilation','peep',\n",
    "              'fio2', 'respiratory_rate_set', 'plateau_pressure','age_now','gender', 'insurance',\n",
    "               'race', 'admission_type', 'first_careunit'\n",
    ",'weight_kg', 'height_cm', 'tobacco']"
   ]
  },
  {
   "cell_type": "code",
   "execution_count": 4,
   "metadata": {},
   "outputs": [
    {
     "data": {
      "text/plain": [
       "{'BMI',\n",
       " 'GCS',\n",
       " 'O2_flow',\n",
       " 'Unnamed: 0',\n",
       " 'before_weaning_hr',\n",
       " 'ventilator_mode',\n",
       " 'ventilator_mode_group'}"
      ]
     },
     "execution_count": 4,
     "metadata": {},
     "output_type": "execute_result"
    }
   ],
   "source": [
    "set(['Unnamed: 0', 'before_weaning_hr', 'O2_flow', 'heart_rate', 'sbp',\n",
    "       'dbp', 'mbp', 'resp_rate', 'spo2', 'peep', 'fio2',\n",
    "       'tidal_volume_observed', 'respiratory_rate_set', 'plateau_pressure',\n",
    "       'ventilator_mode', 'GCS', 'age_now', 'gender', 'insurance', 'race',\n",
    "       'admission_type', 'first_careunit', 'tobacco', 'RSBI',\n",
    "       'minute_ventilation', 'ventilator_mode_group', 'BMI']) - set(all_feature)"
   ]
  },
  {
   "cell_type": "code",
   "execution_count": 6,
   "metadata": {},
   "outputs": [],
   "source": [
    "def read_from_csv(file_name):\n",
    "    data = []\n",
    "    with open(file_name, 'r') as csvfile:\n",
    "        csv_reader = csv.reader(csvfile)\n",
    "        for row in csv_reader:\n",
    "            # 將每個元素轉換為數字\n",
    "            row = [int(element) for element in row]\n",
    "            data.append(row[0])\n",
    "    return data\n",
    "\n",
    "group_prefix = 'group_data/1216best/'\n",
    "\n",
    "# 讀取訓練數據\n",
    "train_csv_file = group_prefix + 'train_data_id.csv'\n",
    "train_data_id = read_from_csv(train_csv_file)\n",
    "\n",
    "# 讀取驗證數據\n",
    "val_csv_file = group_prefix + 'val_data_id.csv'\n",
    "val_data_id = read_from_csv(val_csv_file)\n",
    "\n",
    "# 讀取測試數據\n",
    "test_csv_file = group_prefix + 'test_data_id.csv'\n",
    "test_data_id = read_from_csv(test_csv_file)"
   ]
  },
  {
   "cell_type": "code",
   "execution_count": 7,
   "metadata": {},
   "outputs": [],
   "source": [
    "def get_diff_value(df, colname, start, end):\n",
    "    start = 23 - start\n",
    "    end = 23 - end\n",
    "    df = df.reset_index()\n",
    "    return (df[colname].iloc[end] + df[colname].iloc[end-1] + df[colname].iloc[end-2]) - (df[colname].iloc[start] + df[colname].iloc[start+1] + df[colname].iloc[start+2])\n",
    "\n",
    "def get_more_feature(df, colnames, start, end):\n",
    "    add_list = []\n",
    "    for name in colnames:\n",
    "        now = get_diff_value(df, name, start, end)\n",
    "        add_list.append(now)\n",
    "    return np.array(add_list)\n",
    "\n",
    "def false_percentage(y_label):\n",
    "    zero = len(y_label) - np.count_nonzero(y_label)\n",
    "    print(f\"false percentage: {(zero/len(y_label)) * 100:.2f}%\")\n",
    "\n",
    "def calculate_tpr_tnr(y_true, y_pred):\n",
    "    # 计算 TP, FN, TN, FP\n",
    "    TP = sum((y_true == 1) & (y_pred == 1))\n",
    "    FN = sum((y_true == 1) & (y_pred == 0))\n",
    "    TN = sum((y_true == 0) & (y_pred == 0))\n",
    "    FP = sum((y_true == 0) & (y_pred == 1))\n",
    "\n",
    "    # 计算 TPR 和 TNR\n",
    "    TPR = TP / (TP + FN) if (TP + FN) != 0 else 0\n",
    "    TNR = TN / (TN + FP) if (TN + FP) != 0 else 0\n",
    "\n",
    "    return TPR, TNR\n",
    "\n",
    "def calculate_tpr_tnr2(y_true, y_pred):\n",
    "    # 计算 TP, FN, TN, FP\n",
    "    TP = sum((y_true == 1) & (y_pred == 1))\n",
    "    FN = sum((y_true == 1) & (y_pred == 0))\n",
    "    TN = sum((y_true == 0) & (y_pred == 0))\n",
    "    FP = sum((y_true == 0) & (y_pred == 1))\n",
    "\n",
    "    # 计算 TPR 和 TNR\n",
    "    TPR = TP / (TP + FN) if (TP + FN) != 0 else 0\n",
    "    TNR = TN / (TN + FP) if (TN + FP) != 0 else 0\n",
    "\n",
    "    return TPR, TNR\n",
    "\n",
    "def get_label(id_df):\n",
    "    label = 0\n",
    "    if not check_missing_values(id_df):\n",
    "            label = id_df['label'].iloc[0]\n",
    "            if label == 1:\n",
    "                label = 48\n",
    "            else:\n",
    "                if id_df['Rev_h'].iloc[0] != -1000:\n",
    "                    label = -(48 - id_df['Rev_h'].iloc[0])\n",
    "                elif id_df['dod_h'].iloc[0] != -1000 and id_df['dod_h'].iloc[0]>0 and id_df['dod_h'].iloc[0]<48:\n",
    "                    label = -(96 - id_df['dod_h'].iloc[0]*2)\n",
    "                else:\n",
    "                    label = -96 \n",
    "    return label\n",
    "def check_missing_values(df):\n",
    "    \n",
    "    if df.isna().any().any():\n",
    "        return 1 \n",
    "    else:\n",
    "        return 0 \n",
    "def calculate_std_deviation(df, col_name):\n",
    "    selected_col = df[col_name]\n",
    "    std_deviation = selected_col.std()\n",
    "    return std_deviation\n",
    "def calculate_mean_difference(df, col_name):\n",
    "    selected_col = df[col_name]\n",
    "\n",
    "    # 取前三個和最後三個值\n",
    "    first_three_values = selected_col.head(3)\n",
    "    last_three_values = selected_col.tail(3)\n",
    "\n",
    "    # 計算平均值\n",
    "    first_three_mean = first_three_values.mean()\n",
    "    last_three_mean = last_three_values.mean()\n",
    "\n",
    "    # 計算平均值差\n",
    "    mean_difference = last_three_mean - first_three_mean\n",
    "def get_data(flag_data_df, data_df,label_df, mode_df,train_data_id, val_data_id, test_data_id,hour = 23):\n",
    "    train_x = []\n",
    "    train_y = []\n",
    "    val_x = []\n",
    "    val_y = []\n",
    "    test_x = []\n",
    "    test_y = []\n",
    "    count = 0\n",
    "    cc = 0\n",
    "    all_feature = ['heart_rate', 'sbp', 'dbp', 'mbp', 'spo2', 'resp_rate', \n",
    "             'tidal_volume_observed', 'RSBI', 'minute_ventilation','peep',\n",
    "              'fio2', 'respiratory_rate_set', 'plateau_pressure','age_now','gender',\n",
    "               'race','BMI', 'tobacco','BMI','GCS']\n",
    "    aug_data = ['heart_rate', \n",
    "       'resp_rate', 'spo2', 'peep', 'fio2', 'tidal_volume_observed',\n",
    "       'respiratory_rate_set', 'plateau_pressure']\n",
    "    for index, row in flag_data_df.iterrows():\n",
    "        id_df = data_df[data_df['stay_id'] == row['stay_id']]\n",
    "        id_mode_df = mode_df[mode_df['stay_id'] == row['stay_id']]['ventilator_mode_group']\n",
    "        id_df_label = label_df[label_df['stay_id'] == row['stay_id']]\n",
    "        if not check_missing_values(id_df) or 1:\n",
    "            label = get_label(id_df_label)\n",
    "            id_now = id_df['stay_id'].iloc[0]\n",
    "            id_df = id_df[all_feature]\n",
    "            #if(id_df.shape[0] != 24):\n",
    "                #continue\n",
    "            \n",
    "            zero_hr_values = id_df.iloc[hour, :].values\n",
    "            count_complete_mode =  mode_df[mode_df['stay_id'] == row['stay_id']]['ventilator_mode_group'].tail(12).value_counts().get('Complete Support', 0)\n",
    "            #if(id_df.shape[0] != 24):\n",
    "                #continue\n",
    "            zero_hr_values = id_df.iloc[hour, :].values\n",
    "            try:\n",
    "                count+=1\n",
    "                if(id_mode_df.iloc[-1] == 'Complete Support'):\n",
    "                    mode_code = 1\n",
    "                    cc+=1\n",
    "            except:\n",
    "                continue\n",
    "            #zero_hr_values = np.append(zero_hr_values, mode_code)\n",
    "            zero_hr_values = np.append(zero_hr_values, count_complete_mode)\n",
    "            zero_hr_values = np.append(zero_hr_values, calculate_std_deviation(mode_df[mode_df['stay_id'] == row['stay_id']], 'peep'))\n",
    "            zero_hr_values = np.append(zero_hr_values, calculate_std_deviation(mode_df[mode_df['stay_id'] == row['stay_id']], 'plateau_pressure'))\n",
    "            if id_now in train_data_id:\n",
    "                train_x.append(zero_hr_values)\n",
    "                train_y.append(label)\n",
    "            elif id_now in val_data_id:\n",
    "                val_x.append(zero_hr_values)\n",
    "                val_y.append(label)\n",
    "            elif id_now in test_data_id:\n",
    "                test_x.append(zero_hr_values)\n",
    "                test_y.append(label)\n",
    "    #total_x = np.array(total_x)\n",
    "    #total_y = np.array(total_y).reshape(-1, 1)\n",
    "    #print(cc/count*100)\n",
    "    return train_x, train_y, val_x, val_y, test_x, test_y"
   ]
  },
  {
   "cell_type": "code",
   "execution_count": 8,
   "metadata": {},
   "outputs": [
    {
     "name": "stdout",
     "output_type": "stream",
     "text": [
      "1860 529 274\n"
     ]
    }
   ],
   "source": [
    "train_x, train_y, val_x, val_y, test_x, test_y = get_data(flag_data_df, data_df,label_df, mode_df,train_data_id, val_data_id, test_data_id)\n",
    "print(len(train_x), len(val_x), len(test_x)) #1860 529 274"
   ]
  },
  {
   "cell_type": "code",
   "execution_count": 9,
   "metadata": {},
   "outputs": [
    {
     "name": "stdout",
     "output_type": "stream",
     "text": [
      "(1860, 23)\n",
      "(529, 23)\n",
      "(274, 23)\n"
     ]
    }
   ],
   "source": [
    "total_x = train_x+val_x+test_x\n",
    "total_x = np.array(total_x)\n",
    "total_x = total_x.astype(np.float32)\n",
    "total_x[np.isinf(total_x)] = np.nan\n",
    "total_x[np.abs(total_x) > 1e6] = np.nan\n",
    "total_x[np.isnan(total_x)] = 0.0\n",
    "scaler = MinMaxScaler()\n",
    "#scaler = joblib.load('./model/C_scaler.joblib')\n",
    "total_x_normalized = scaler.fit_transform(total_x.reshape(-1, total_x.shape[-1])).reshape(total_x.shape)\n",
    "#joblib.dump(scaler, './model/C_scaler.joblib')\n",
    "\n",
    "X_train = total_x_normalized[:len(train_x)]\n",
    "X_val = total_x_normalized[len(train_x):len(train_x)+len(val_x)]\n",
    "X_test = total_x_normalized[len(train_x)+len(val_x):len(train_x)+len(val_x)+len(test_x)]\n",
    "y_train = np.array(train_y).reshape(-1, 1)\n",
    "y_val = np.array(val_y).reshape(-1, 1)\n",
    "y_test = np.array(test_y).reshape(-1, 1)\n",
    "\n",
    "print(X_train.shape)\n",
    "#print_percentage_of_negative_values(y_train)\n",
    "print(X_val.shape)\n",
    "#print_percentage_of_negative_values(y_val)\n",
    "print(X_test.shape)\n",
    "#print_percentage_of_negative_values(y_test)"
   ]
  },
  {
   "cell_type": "code",
   "execution_count": 10,
   "metadata": {},
   "outputs": [],
   "source": [
    "from sklearn.metrics import classification_report\n",
    "\n",
    "def print_classification_metrics(y_true, y_pred, prefix):\n",
    "    print(f\"{prefix} Classification Report:\")\n",
    "    print(classification_report(y_true, y_pred))\n",
    "    print()\n",
    "\n",
    "def print_score(model, X_data, y_data, who):\n",
    "    print(\"=========\"+who+\"=========\")\n",
    "    y_pred_proba = model.predict(X_data, verbose=0)\n",
    "    # add\n",
    "    # csv\n",
    "    import csv\n",
    "    csvfile_nn = open('nn_for_roc.csv', 'w', newline='')\n",
    "    writer = csv.writer(csvfile_nn)\n",
    "    writer.writerow(y_pred_proba[:, 0])\n",
    "    csvfile_nn.close()\n",
    "    # add end\n",
    "    y_pred = np.where(y_pred_proba >0 , 1, 0)\n",
    "    y_label = np.where(y_data > 0, 1, 0)\n",
    "\n",
    "    accuracy = np.mean(y_pred == y_label)\n",
    "    tpr, tnr = calculate_tpr_tnr(y_label, y_pred)\n",
    "    print(\"TPR:\", tpr)\n",
    "    print(\"TNR:\", tnr)\n",
    "    print(f'Accuracy: {accuracy * 100:.2f}%')\n",
    "    auroc = roc_auc_score(y_label, y_pred_proba)\n",
    "    print(\"AUROC:\", auroc)\n",
    "    print_classification_metrics(y_label,y_pred, who)\n",
    "def get_score(model, X_data, y_data, who):\n",
    "    y_pred_proba = model.predict(X_data, verbose=0)\n",
    "    y_pred = np.where(y_pred_proba >0 , 1, 0)\n",
    "    y_label = np.where(y_data > 0, 1, 0)\n",
    "\n",
    "    accuracy = np.mean(y_pred == y_label)\n",
    "    tpr, tnr = calculate_tpr_tnr(y_label, y_pred)\n",
    "    auroc = roc_auc_score(y_label, y_pred_proba)\n",
    "    return auroc\n"
   ]
  },
  {
   "cell_type": "code",
   "execution_count": 11,
   "metadata": {},
   "outputs": [
    {
     "name": "stdout",
     "output_type": "stream",
     "text": [
      "=========test=========\n",
      "TPR: [0.95402299]\n",
      "TNR: [0.55]\n",
      "Accuracy: 80.66%\n",
      "AUROC: 0.8224137931034483\n",
      "test Classification Report:\n",
      "              precision    recall  f1-score   support\n",
      "\n",
      "           0       0.87      0.55      0.67       100\n",
      "           1       0.79      0.95      0.86       174\n",
      "\n",
      "    accuracy                           0.81       274\n",
      "   macro avg       0.83      0.75      0.77       274\n",
      "weighted avg       0.82      0.81      0.79       274\n",
      "\n",
      "\n"
     ]
    }
   ],
   "source": [
    "from tensorflow.keras.models import load_model\n",
    "model_test = load_model('./model/modelC_17.h5')\n",
    "print_score(model_test, X_test,y_test,'test')"
   ]
  },
  {
   "cell_type": "code",
   "execution_count": 41,
   "metadata": {},
   "outputs": [],
   "source": [
    "import shap\n",
    "from keras.models import load_model\n",
    "\n",
    "# 載入模型\n",
    "model_test = load_model('./model/modelC_17.h5')\n",
    "\n",
    "# 創建 SHAP 解釋器，使用 Independent masker\n",
    "explainer = shap.Explainer(model_test, masker=shap.maskers.Independent(data=X_train), feature_names=['heart_rate', 'sbp', 'dbp', 'mbp', 'spo2', 'resp_rate', 'tidal_volume_observed', 'RSBI', 'minute_ventilation','peep', 'fio2', 'respiratory_rate_set', 'plateau_pressure','age_now','gender', 'race','BMI', 'tobacco','BMI','GCS','count_complete_mode','std peep','std plateau_pressure'])\n",
    "\n",
    "# 提供一個樣本數據（X）以生成 SHAP 值\n",
    "shap_values = explainer.shap_values(X_test)\n",
    "\n",
    "# 生成 SHAP 圖表\n",
    "shap.summary_plot(shap_values, X_test, feature_names=['heart_rate', 'sbp', 'dbp', 'mbp', 'spo2', 'resp_rate', \n",
    "             'tidal_volume_observed', 'RSBI', 'minute_ventilation','peep',\n",
    "              'fio2', 'respiratory_rate_set', 'plateau_pressure','age_now','gender', \n",
    "               'race'\n",
    "                ,'BMI', 'tobacco','BMI','GCS','count_complete_mode','std peep','std plateau_pressure'])"
   ]
  },
  {
   "cell_type": "code",
   "execution_count": null,
   "metadata": {},
   "outputs": [
    {
     "name": "stderr",
     "output_type": "stream",
     "text": [
      "PermutationExplainer explainer: 530it [03:52,  2.12it/s]                         \n"
     ]
    },
    {
     "data": {
      "image/png": "[encoded data removed]",
      "text/plain": [
       "<Figure size 800x950 with 1 Axes>"
      ]
     },
     "metadata": {},
     "output_type": "display_data"
    }
   ],
   "source": [
    "import shap\n",
    "from keras.models import load_model\n",
    "\n",
    "# 載入模型\n",
    "model_test = load_model('./model/1219test.h5')\n",
    "\n",
    "# 創建 SHAP 解釋器，使用 Independent masker\n",
    "explainer = shap.Explainer(model_test, masker=shap.maskers.Independent(data=X_train), feature_names=['heart_rate', 'sbp', 'dbp', 'mbp', 'spo2', 'resp_rate', 'tidal_volume_observed', 'RSBI', 'minute_ventilation','peep', 'fio2', 'respiratory_rate_set', 'plateau_pressure','age_now','gender', 'insurance', 'race', 'admission_type', 'first_careunit' ,'BMI', 'tobacco','BMI','GCS'])\n",
    "\n",
    "# 提供一個樣本數據（X）以生成 SHAP 值\n",
    "shap_values = explainer.shap_values(X_val)\n",
    "\n",
    "# 生成 SHAP 平均圖表\n",
    "shap.summary_plot(shap_values, X_val, feature_names=['heart_rate', 'sbp', 'dbp', 'mbp', 'spo2', 'resp_rate', 'tidal_volume_observed', 'RSBI', 'minute_ventilation','peep', 'fio2', 'respiratory_rate_set', 'plateau_pressure','age_now','gender', 'insurance', 'race', 'admission_type', 'first_careunit' ,'BMI', 'tobacco','BMI','GCS'], plot_type='bar')\n"
   ]
  }
 ],
 "metadata": {
  "kernelspec": {
   "display_name": "Python 3",
   "language": "python",
   "name": "python3"
  },
  "language_info": {
   "codemirror_mode": {
    "name": "ipython",
    "version": 3
   },
   "file_extension": ".py",
   "mimetype": "text/x-python",
   "name": "python",
   "nbconvert_exporter": "python",
   "pygments_lexer": "ipython3",
   "version": "3.6.13"
  },
  "vscode": {
   "interpreter": {
    "hash": "ee7d7838ef53998fd22ad7449b76e48b4013ea11e59d28ee193f2cd757746339"
   }
  }
 },
 "nbformat": 4,
 "nbformat_minor": 2
}
